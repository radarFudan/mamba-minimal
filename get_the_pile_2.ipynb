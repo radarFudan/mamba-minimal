{
 "cells": [
  {
   "cell_type": "markdown",
   "metadata": {},
   "source": [
    "## Target dataset\n",
    "https://huggingface.co/datasets/EleutherAI/the_pile_deduplicated"
   ]
  },
  {
   "cell_type": "code",
   "execution_count": null,
   "metadata": {},
   "outputs": [],
   "source": [
    "# https://huggingface.co/docs/huggingface_hub/guides/download#download-an-entire-repository\n",
    "\n",
    "from huggingface_hub import snapshot_download\n",
    "\n",
    "snapshot_download(repo_id=\"EleutherAI/the_pile_deduplicated\", repo_type=\"dataset\")"
   ]
  },
  {
   "cell_type": "code",
   "execution_count": null,
   "metadata": {},
   "outputs": [],
   "source": [
    "from datasets import load_dataset\n",
    "\n",
    "# dataset = load_dataset(\"/home/aiops/wangsd/.cache/huggingface/hub/datasets--EleutherAI--the_pile_deduplicated/snapshots/fcbfcfde4222cbb1acd1d33bad0be250ee14b1bb\")\n",
    "# dataset = load_dataset(\"EleutherAI/the_pile_deduplicated\", cache_dir='/home/aiops/wangsd/.cache/huggingface/hub/datasets--EleutherAI--the_pile_deduplicated/snapshots/fcbfcfde4222cbb1acd1d33bad0be250ee14b1bb', streaming=True)\n",
    "# dataset = load_dataset(\"EleutherAI/the_pile_deduplicated\", cache_dir='/home/aiops/wangsd/.cache/huggingface/hub/datasets--EleutherAI--the_pile_deduplicated/snapshots/fcbfcfde4222cbb1acd1d33bad0be250ee14b1bb')\n",
    "dataset = load_dataset('/home/aiops/wangsd/.cache/huggingface/hub/datasets--EleutherAI--the_pile_deduplicated/snapshots/fcbfcfde4222cbb1acd1d33bad0be250ee14b1bb')"
   ]
  },
  {
   "cell_type": "code",
   "execution_count": null,
   "metadata": {},
   "outputs": [],
   "source": [
    "dataset"
   ]
  },
  {
   "cell_type": "code",
   "execution_count": null,
   "metadata": {},
   "outputs": [],
   "source": []
  }
 ],
 "metadata": {
  "kernelspec": {
   "display_name": "env_mamba",
   "language": "python",
   "name": "python3"
  },
  "language_info": {
   "codemirror_mode": {
    "name": "ipython",
    "version": 3
   },
   "file_extension": ".py",
   "mimetype": "text/x-python",
   "name": "python",
   "nbconvert_exporter": "python",
   "pygments_lexer": "ipython3",
   "version": "3.11.6"
  }
 },
 "nbformat": 4,
 "nbformat_minor": 2
}
